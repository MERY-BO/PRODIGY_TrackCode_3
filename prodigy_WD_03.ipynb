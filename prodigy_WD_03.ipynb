{
  "nbformat": 4,
  "nbformat_minor": 0,
  "metadata": {
    "colab": {
      "provenance": []
    },
    "kernelspec": {
      "name": "python3",
      "display_name": "Python 3"
    },
    "language_info": {
      "name": "python"
    }
  },
  "cells": [
    {
      "cell_type": "code",
      "execution_count": null,
      "metadata": {
        "id": "iUkco7rQxvnV"
      },
      "outputs": [],
      "source": [
        "import matplotlib.pyplot as plt\n",
        "import numpy as np\n",
        "import pandas as pd\n",
        "import seaborn as sns"
      ]
    },
    {
      "cell_type": "code",
      "source": [
        "df = pd.read_csv('/content/bank-full.csv',sep = ';')"
      ],
      "metadata": {
        "id": "ZE8nlcwAylf1"
      },
      "execution_count": null,
      "outputs": []
    },
    {
      "cell_type": "code",
      "source": [
        "from sklearn.preprocessing import LabelEncoder\n",
        "\n",
        "label_encoder = LabelEncoder()\n",
        "df['default']  = label_encoder.fit_transform(df['default'])"
      ],
      "metadata": {
        "id": "N8kEaBBzyoxh"
      },
      "execution_count": null,
      "outputs": []
    },
    {
      "cell_type": "code",
      "source": [
        "df.columns"
      ],
      "metadata": {
        "colab": {
          "base_uri": "https://localhost:8080/"
        },
        "id": "VZyDDnyX11ak",
        "outputId": "344d1f3b-d3d8-446a-8d39-783d92a4103d"
      },
      "execution_count": null,
      "outputs": [
        {
          "output_type": "execute_result",
          "data": {
            "text/plain": [
              "Index(['age', 'job', 'marital', 'education', 'default', 'balance', 'housing',\n",
              "       'loan', 'contact', 'day', 'month', 'duration', 'campaign', 'pdays',\n",
              "       'previous', 'poutcome', 'y'],\n",
              "      dtype='object')"
            ]
          },
          "metadata": {},
          "execution_count": 41
        }
      ]
    },
    {
      "cell_type": "code",
      "source": [
        "\n",
        "df['housing'] = label_encoder.fit_transform(df['housing'])\n",
        "df['loan'] = label_encoder.fit_transform(df['loan'])\n",
        "df['y'] = label_encoder.fit_transform(df['y'])\n",
        "df['poutcome'] = label_encoder.fit_transform(df['poutcome'])\n",
        "df['month'] = label_encoder.fit_transform(df['month'])\n",
        "df['contact'] = label_encoder.fit_transform(df['contact'])\n",
        "df = df.join(pd.get_dummies(df['marital'])).drop('marital',axis = 1)\n",
        "df = df.join(pd.get_dummies(df['education'])).drop('education',axis = 1)\n",
        "df['job'] = df['job'] + '_job'\n",
        "df = df.join(pd.get_dummies(df['job'])).drop('job',axis = 1)"
      ],
      "metadata": {
        "id": "IrzM0FX82-gr"
      },
      "execution_count": null,
      "outputs": []
    },
    {
      "cell_type": "code",
      "source": [
        "df.info()"
      ],
      "metadata": {
        "colab": {
          "base_uri": "https://localhost:8080/"
        },
        "id": "jd3iSBrU6kRH",
        "outputId": "cb657988-d349-4263-f910-2002704e15d9"
      },
      "execution_count": null,
      "outputs": [
        {
          "output_type": "stream",
          "name": "stdout",
          "text": [
            "<class 'pandas.core.frame.DataFrame'>\n",
            "RangeIndex: 45211 entries, 0 to 45210\n",
            "Data columns (total 33 columns):\n",
            " #   Column             Non-Null Count  Dtype\n",
            "---  ------             --------------  -----\n",
            " 0   age                45211 non-null  int64\n",
            " 1   default            45211 non-null  int64\n",
            " 2   balance            45211 non-null  int64\n",
            " 3   housing            45211 non-null  int64\n",
            " 4   loan               45211 non-null  int64\n",
            " 5   contact            45211 non-null  int64\n",
            " 6   day                45211 non-null  int64\n",
            " 7   month              45211 non-null  int64\n",
            " 8   duration           45211 non-null  int64\n",
            " 9   campaign           45211 non-null  int64\n",
            " 10  pdays              45211 non-null  int64\n",
            " 11  previous           45211 non-null  int64\n",
            " 12  poutcome           45211 non-null  int64\n",
            " 13  y                  45211 non-null  int64\n",
            " 14  divorced           45211 non-null  uint8\n",
            " 15  married            45211 non-null  uint8\n",
            " 16  single             45211 non-null  uint8\n",
            " 17  primary            45211 non-null  uint8\n",
            " 18  secondary          45211 non-null  uint8\n",
            " 19  tertiary           45211 non-null  uint8\n",
            " 20  unknown            45211 non-null  uint8\n",
            " 21  admin._job         45211 non-null  uint8\n",
            " 22  blue-collar_job    45211 non-null  uint8\n",
            " 23  entrepreneur_job   45211 non-null  uint8\n",
            " 24  housemaid_job      45211 non-null  uint8\n",
            " 25  management_job     45211 non-null  uint8\n",
            " 26  retired_job        45211 non-null  uint8\n",
            " 27  self-employed_job  45211 non-null  uint8\n",
            " 28  services_job       45211 non-null  uint8\n",
            " 29  student_job        45211 non-null  uint8\n",
            " 30  technician_job     45211 non-null  uint8\n",
            " 31  unemployed_job     45211 non-null  uint8\n",
            " 32  unknown_job        45211 non-null  uint8\n",
            "dtypes: int64(14), uint8(19)\n",
            "memory usage: 5.6 MB\n"
          ]
        }
      ]
    },
    {
      "cell_type": "code",
      "source": [
        "from sklearn.model_selection import train_test_split\n",
        "x,y = df.drop('y',axis = 1), df['y']\n",
        "x_train,x_test, y_train, y_test = train_test_split(x,y,test_size = 0.2)\n",
        "\n",
        "from sklearn.ensemble import RandomForestClassifier\n",
        "model = RandomForestClassifier(n_estimators=5)\n",
        "model.fit(x_train,y_train)\n",
        "model.score(x_test,y_test)"
      ],
      "metadata": {
        "colab": {
          "base_uri": "https://localhost:8080/"
        },
        "id": "inJI2B_N6vC2",
        "outputId": "d4b74323-9d87-438c-b219-9130be22dfb8"
      },
      "execution_count": null,
      "outputs": [
        {
          "output_type": "execute_result",
          "data": {
            "text/plain": [
              "0.891850049762247"
            ]
          },
          "metadata": {},
          "execution_count": 93
        }
      ]
    },
    {
      "cell_type": "code",
      "source": [
        "yi = model.predict(x_test)"
      ],
      "metadata": {
        "id": "gDDG2mkv7sTi"
      },
      "execution_count": null,
      "outputs": []
    },
    {
      "cell_type": "code",
      "source": [
        "result = np.where(yi == 1, 'yes', 'no')"
      ],
      "metadata": {
        "id": "Smks-uqN7zK2"
      },
      "execution_count": null,
      "outputs": []
    },
    {
      "cell_type": "code",
      "source": [
        "result\n"
      ],
      "metadata": {
        "colab": {
          "base_uri": "https://localhost:8080/"
        },
        "id": "0CKR42mT8Sft",
        "outputId": "64844965-b1a9-4d3b-fa97-bded8cf480d8"
      },
      "execution_count": null,
      "outputs": [
        {
          "output_type": "execute_result",
          "data": {
            "text/plain": [
              "array(['no', 'no', 'yes', ..., 'yes', 'no', 'no'], dtype='<U3')"
            ]
          },
          "metadata": {},
          "execution_count": 99
        }
      ]
    },
    {
      "cell_type": "code",
      "source": [],
      "metadata": {
        "id": "PFDMAEVN8Teb"
      },
      "execution_count": null,
      "outputs": []
    }
  ]
}